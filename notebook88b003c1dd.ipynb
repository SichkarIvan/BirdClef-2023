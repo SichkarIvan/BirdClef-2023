{
 "cells": [
  {
   "cell_type": "code",
   "execution_count": 1,
   "id": "e864959a",
   "metadata": {
    "execution": {
     "iopub.execute_input": "2023-05-22T07:04:23.127474Z",
     "iopub.status.busy": "2023-05-22T07:04:23.126571Z",
     "iopub.status.idle": "2023-05-22T07:04:30.972809Z",
     "shell.execute_reply": "2023-05-22T07:04:30.971644Z"
    },
    "id": "YPU_-ghI5aWB",
    "outputId": "984e2f8e-d20e-4bc9-cc75-9d264353c8fd",
    "papermill": {
     "duration": 7.857664,
     "end_time": "2023-05-22T07:04:30.976303",
     "exception": false,
     "start_time": "2023-05-22T07:04:23.118639",
     "status": "completed"
    },
    "tags": []
   },
   "outputs": [
    {
     "name": "stderr",
     "output_type": "stream",
     "text": [
      "c:\\Users\\User\\AppData\\Local\\Programs\\Python\\Python39\\lib\\site-packages\\tqdm\\auto.py:21: TqdmWarning: IProgress not found. Please update jupyter and ipywidgets. See https://ipywidgets.readthedocs.io/en/stable/user_install.html\n",
      "  from .autonotebook import tqdm as notebook_tqdm\n"
     ]
    }
   ],
   "source": [
    "#imports\n",
    "import os\n",
    "import timm\n",
    "import torch\n",
    "import numpy as np \n",
    "import pandas as pd\n",
    "import librosa as lb\n",
    "import torch.nn as nn\n",
    "import soundfile as sf\n",
    "\n",
    "from torch.optim import AdamW\n",
    "from torch.utils.data import Dataset, DataLoader\n",
    "from sklearn.metrics import average_precision_score\n",
    "import torchvision.transforms as transforms\n",
    "from  soundfile import SoundFile \n",
    "from sklearn.model_selection import train_test_split\n",
    "\n",
    "device = 'cuda:0' if torch.cuda.is_available() else 'cpu'\n",
    "\n",
    "bs = 32\n",
    "classnum = 264\n",
    "n_mels = 224\n",
    "epochs = 10\n",
    "lr = 3e-3\n"
   ]
  },
  {
   "cell_type": "code",
   "execution_count": 2,
   "id": "aa90bc92",
   "metadata": {
    "execution": {
     "iopub.execute_input": "2023-05-22T07:04:30.990688Z",
     "iopub.status.busy": "2023-05-22T07:04:30.990256Z",
     "iopub.status.idle": "2023-05-22T07:04:31.008980Z",
     "shell.execute_reply": "2023-05-22T07:04:31.007729Z"
    },
    "id": "hupbpuSs5aWD",
    "papermill": {
     "duration": 0.029017,
     "end_time": "2023-05-22T07:04:31.011626",
     "exception": false,
     "start_time": "2023-05-22T07:04:30.982609",
     "status": "completed"
    },
    "tags": []
   },
   "outputs": [],
   "source": [
    "#audio conversion\n",
    "def compute_melspec(y, sr, n_mels, fmin, fmax):\n",
    "    melspec = lb.feature.melspectrogram(\n",
    "        y=y, sr=sr, n_mels=n_mels, fmin=fmin, fmax=fmax,\n",
    "    )\n",
    "\n",
    "    melspec = lb.power_to_db(melspec).astype(np.float32)\n",
    "    return melspec\n",
    "\n",
    "def mono_to_color(X, eps=1e-6, mean=None, std=None):\n",
    "    mean = mean or X.mean()\n",
    "    std = std or X.std()\n",
    "    X = (X - mean) / (std + eps)\n",
    "    \n",
    "    _min, _max = X.min(), X.max()\n",
    "\n",
    "    if (_max - _min) > eps:\n",
    "        V = np.clip(X, _min, _max)\n",
    "        V = 255 * (V - _min) / (_max - _min)\n",
    "        V = V.astype(np.uint8)\n",
    "    else:\n",
    "        V = np.zeros_like(X, dtype=np.uint8)\n",
    "\n",
    "    return V\n",
    "\n",
    "\n",
    "def padded_cmap(solution, submission, padding_factor=5):\n",
    "    solution = solution.drop(['row_id'], axis=1, errors='ignore')\n",
    "    submission = submission.drop(['row_id'], axis=1, errors='ignore')\n",
    "    new_rows = []\n",
    "    for i in range(padding_factor):\n",
    "        new_rows.append([1 for i in range(len(solution.columns))])\n",
    "    new_rows = pd.DataFrame(new_rows)\n",
    "    new_rows.columns = solution.columns\n",
    "    padded_solution = pd.concat([solution, new_rows]).reset_index(drop=True).copy()\n",
    "    padded_submission = pd.concat([submission, new_rows]).reset_index(drop=True).copy()\n",
    "    score = average_precision_score(\n",
    "        padded_solution.values,\n",
    "        padded_submission.values,\n",
    "        average='macro',\n",
    "    )\n",
    "    return score"
   ]
  },
  {
   "cell_type": "code",
   "execution_count": 3,
   "id": "85c17772",
   "metadata": {
    "execution": {
     "iopub.execute_input": "2023-05-22T07:04:31.025644Z",
     "iopub.status.busy": "2023-05-22T07:04:31.025240Z",
     "iopub.status.idle": "2023-05-22T07:04:31.032395Z",
     "shell.execute_reply": "2023-05-22T07:04:31.030954Z"
    },
    "id": "vsSuxTdL5aWS",
    "papermill": {
     "duration": 0.017158,
     "end_time": "2023-05-22T07:04:31.034891",
     "exception": false,
     "start_time": "2023-05-22T07:04:31.017733",
     "status": "completed"
    },
    "tags": []
   },
   "outputs": [],
   "source": [
    "#model\n",
    "class Model(nn.Module):\n",
    "    def __init__(self):\n",
    "        super(Model, self).__init__()\n",
    "        self.model = timm.create_model('tf_efficientnet_b2_ns', pretrained=False)\n",
    "        self.in_features = self.model.classifier.in_features\n",
    "        self.model.classifier = nn.Sequential(nn.Linear(self.in_features, classnum))\n",
    "    \n",
    "    def forward(self, images):\n",
    "        features = self.model(images)\n",
    "        return features"
   ]
  },
  {
   "cell_type": "code",
   "execution_count": 4,
   "id": "98b0bc33",
   "metadata": {
    "execution": {
     "iopub.execute_input": "2023-05-22T07:04:31.049319Z",
     "iopub.status.busy": "2023-05-22T07:04:31.048908Z",
     "iopub.status.idle": "2023-05-22T07:04:31.068353Z",
     "shell.execute_reply": "2023-05-22T07:04:31.067152Z"
    },
    "id": "4ndPVt-O5aWM",
    "papermill": {
     "duration": 0.029858,
     "end_time": "2023-05-22T07:04:31.071068",
     "exception": false,
     "start_time": "2023-05-22T07:04:31.041210",
     "status": "completed"
    },
    "tags": []
   },
   "outputs": [],
   "source": [
    "#dataset for work\n",
    "class BirdDataset(Dataset):\n",
    "    def __init__(self, data, sr=32000, n_mels=128, fmin=0, fmax=None, duration=5, \n",
    "                 step=None, res_type=\"kaiser_fast\", resample=True, valid=False, transform=None):\n",
    "        self.data = data\n",
    "        self.sr = sr\n",
    "        self.n_mels = n_mels\n",
    "        self.fmin = fmin\n",
    "        self.fmax = fmax or self.sr // 2\n",
    "        \n",
    "        self.transform = transform\n",
    "\n",
    "        self.duration = duration\n",
    "        self.audio_length = self.duration*self.sr\n",
    "        self.step = step or self.audio_length\n",
    "        \n",
    "        self.valid = valid\n",
    "        self.path = '' if valid else '/kaggle/input/birdclef-2023/train_audio/'\n",
    "        self.res_type = res_type\n",
    "        self.resample = resample\n",
    "\n",
    "    def __len__(self):\n",
    "        return len(self.data)\n",
    "    \n",
    "    def normalize(self, image):\n",
    "        image = image.astype(\"float32\", copy=False) / 255.0\n",
    "        if image.shape[1] > 256:\n",
    "            image = image[:128, :256]\n",
    "        else:\n",
    "          zeroes = np.zeros((128, 256 - image.shape[1]))\n",
    "          image = np.concatenate([image, zeroes], axis=1, dtype=np.float32)\n",
    "          \n",
    "        image = np.stack([image, image, image], axis=0)\n",
    "        return image\n",
    "    \n",
    "    def audio_to_image(self, audio):\n",
    "        melspec = compute_melspec(audio, self.sr, self.n_mels, self.fmin, self.fmax) \n",
    "        image = mono_to_color(melspec)\n",
    "        image = self.normalize(image)\n",
    "        return image\n",
    "\n",
    "    def read_file(self, row):\n",
    "        filepath = self.path + str(row['path'])\n",
    "        audio, orig_sr = sf.read(filepath, dtype=\"float32\")\n",
    "\n",
    "        if self.resample and orig_sr != self.sr:\n",
    "            audio = lb.resample(audio, orig_sr, self.sr, res_type=self.res_type)\n",
    "          \n",
    "        if self.valid:\n",
    "            audios = []\n",
    "            for i in range(self.audio_length, len(audio) + self.step, self.step):\n",
    "                start = max(0, i - self.audio_length)\n",
    "                end = start + self.audio_length\n",
    "                audios.append(audio[start:end])\n",
    "\n",
    "            if len(audios[-1]) < self.audio_length:\n",
    "                audios = audios[:-1]\n",
    "\n",
    "            images = [self.audio_to_image(audio) for audio in audios]\n",
    "            images = np.stack(images)\n",
    "            \n",
    "        else:\n",
    "            images = self.audio_to_image(audio)  \n",
    "        \n",
    "        labels = torch.tensor(row[3:]).float() \n",
    "        return (images, labels)\n",
    "    \n",
    "        \n",
    "    def __getitem__(self, idx):\n",
    "        return self.read_file(self.data.loc[idx])"
   ]
  },
  {
   "cell_type": "code",
   "execution_count": 5,
   "id": "01ff5946",
   "metadata": {
    "execution": {
     "iopub.execute_input": "2023-05-22T07:04:31.086116Z",
     "iopub.status.busy": "2023-05-22T07:04:31.085384Z",
     "iopub.status.idle": "2023-05-22T07:04:31.389291Z",
     "shell.execute_reply": "2023-05-22T07:04:31.387767Z"
    },
    "id": "_EKInE58GxbA",
    "outputId": "78ed547e-0e5d-4d9a-c9c4-4d04f4ad28b8",
    "papermill": {
     "duration": 0.31548,
     "end_time": "2023-05-22T07:04:31.392726",
     "exception": false,
     "start_time": "2023-05-22T07:04:31.077246",
     "status": "completed"
    },
    "tags": []
   },
   "outputs": [],
   "source": [
    "#model, optim, scheduler, loss, transform \n",
    "birds_classifier = Model()\n",
    "birds_classifier = birds_classifier.to(device)\n",
    "optim = AdamW(birds_classifier.parameters(), lr=lr)\n",
    "scheduler = torch.optim.lr_scheduler.CosineAnnealingLR(optim, eta_min=1e-5, T_max=10)\n",
    "loss_fn = nn.CrossEntropyLoss()\n",
    "transform = transforms.Compose([transforms.ToTensor(), transforms.Resize((120, 224))])\n"
   ]
  },
  {
   "cell_type": "code",
   "execution_count": 6,
   "id": "be0801a8",
   "metadata": {
    "execution": {
     "iopub.execute_input": "2023-05-22T07:04:31.407307Z",
     "iopub.status.busy": "2023-05-22T07:04:31.406864Z",
     "iopub.status.idle": "2023-05-22T07:04:31.734742Z",
     "shell.execute_reply": "2023-05-22T07:04:31.733646Z"
    },
    "id": "jwwmFaze5aWP",
    "papermill": {
     "duration": 0.338441,
     "end_time": "2023-05-22T07:04:31.737806",
     "exception": false,
     "start_time": "2023-05-22T07:04:31.399365",
     "status": "completed"
    },
    "tags": []
   },
   "outputs": [
    {
     "ename": "FileNotFoundError",
     "evalue": "[Errno 2] No such file or directory: '/kaggle/input/birdclef-2023/train_metadata.csv'",
     "output_type": "error",
     "traceback": [
      "\u001b[1;31m---------------------------------------------------------------------------\u001b[0m",
      "\u001b[1;31mFileNotFoundError\u001b[0m                         Traceback (most recent call last)",
      "\u001b[1;32mc:\\Users\\User\\Downloads\\notebook88b003c1dd.ipynb Cell 6\u001b[0m in \u001b[0;36m1\n\u001b[1;32m----> <a href='vscode-notebook-cell:/c%3A/Users/User/Downloads/notebook88b003c1dd.ipynb#W5sZmlsZQ%3D%3D?line=0'>1</a>\u001b[0m data \u001b[39m=\u001b[39m pd\u001b[39m.\u001b[39mread_csv(\u001b[39m'\u001b[39m\u001b[39m/kaggle/input/birdclef-2023/train_metadata.csv\u001b[39m\u001b[39m'\u001b[39m)\n\u001b[0;32m      <a href='vscode-notebook-cell:/c%3A/Users/User/Downloads/notebook88b003c1dd.ipynb#W5sZmlsZQ%3D%3D?line=1'>2</a>\u001b[0m data \u001b[39m=\u001b[39m pd\u001b[39m.\u001b[39mconcat([ pd\u001b[39m.\u001b[39mSeries(data[\u001b[39m'\u001b[39m\u001b[39mprimary_label\u001b[39m\u001b[39m'\u001b[39m]), pd\u001b[39m.\u001b[39mSeries(data[\u001b[39m'\u001b[39m\u001b[39mtype\u001b[39m\u001b[39m'\u001b[39m]), pd\u001b[39m.\u001b[39mSeries(data[\u001b[39m'\u001b[39m\u001b[39mfilename\u001b[39m\u001b[39m'\u001b[39m], name\u001b[39m=\u001b[39m\u001b[39m'\u001b[39m\u001b[39mpath\u001b[39m\u001b[39m'\u001b[39m)], axis\u001b[39m=\u001b[39m\u001b[39m1\u001b[39m, names\u001b[39m=\u001b[39m[\u001b[39m'\u001b[39m\u001b[39mprimary_label\u001b[39m\u001b[39m'\u001b[39m, \u001b[39m'\u001b[39m\u001b[39mtype\u001b[39m\u001b[39m'\u001b[39m, \u001b[39m'\u001b[39m\u001b[39mpath\u001b[39m\u001b[39m'\u001b[39m])\n\u001b[0;32m      <a href='vscode-notebook-cell:/c%3A/Users/User/Downloads/notebook88b003c1dd.ipynb#W5sZmlsZQ%3D%3D?line=3'>4</a>\u001b[0m data \u001b[39m=\u001b[39m pd\u001b[39m.\u001b[39mconcat([data, pd\u001b[39m.\u001b[39mget_dummies(data[\u001b[39m'\u001b[39m\u001b[39mprimary_label\u001b[39m\u001b[39m'\u001b[39m])], axis\u001b[39m=\u001b[39m\u001b[39m1\u001b[39m)\n",
      "File \u001b[1;32mc:\\Users\\User\\AppData\\Local\\Programs\\Python\\Python39\\lib\\site-packages\\pandas\\util\\_decorators.py:311\u001b[0m, in \u001b[0;36mdeprecate_nonkeyword_arguments.<locals>.decorate.<locals>.wrapper\u001b[1;34m(*args, **kwargs)\u001b[0m\n\u001b[0;32m    305\u001b[0m \u001b[39mif\u001b[39;00m \u001b[39mlen\u001b[39m(args) \u001b[39m>\u001b[39m num_allow_args:\n\u001b[0;32m    306\u001b[0m     warnings\u001b[39m.\u001b[39mwarn(\n\u001b[0;32m    307\u001b[0m         msg\u001b[39m.\u001b[39mformat(arguments\u001b[39m=\u001b[39marguments),\n\u001b[0;32m    308\u001b[0m         \u001b[39mFutureWarning\u001b[39;00m,\n\u001b[0;32m    309\u001b[0m         stacklevel\u001b[39m=\u001b[39mstacklevel,\n\u001b[0;32m    310\u001b[0m     )\n\u001b[1;32m--> 311\u001b[0m \u001b[39mreturn\u001b[39;00m func(\u001b[39m*\u001b[39margs, \u001b[39m*\u001b[39m\u001b[39m*\u001b[39mkwargs)\n",
      "File \u001b[1;32mc:\\Users\\User\\AppData\\Local\\Programs\\Python\\Python39\\lib\\site-packages\\pandas\\io\\parsers\\readers.py:680\u001b[0m, in \u001b[0;36mread_csv\u001b[1;34m(filepath_or_buffer, sep, delimiter, header, names, index_col, usecols, squeeze, prefix, mangle_dupe_cols, dtype, engine, converters, true_values, false_values, skipinitialspace, skiprows, skipfooter, nrows, na_values, keep_default_na, na_filter, verbose, skip_blank_lines, parse_dates, infer_datetime_format, keep_date_col, date_parser, dayfirst, cache_dates, iterator, chunksize, compression, thousands, decimal, lineterminator, quotechar, quoting, doublequote, escapechar, comment, encoding, encoding_errors, dialect, error_bad_lines, warn_bad_lines, on_bad_lines, delim_whitespace, low_memory, memory_map, float_precision, storage_options)\u001b[0m\n\u001b[0;32m    665\u001b[0m kwds_defaults \u001b[39m=\u001b[39m _refine_defaults_read(\n\u001b[0;32m    666\u001b[0m     dialect,\n\u001b[0;32m    667\u001b[0m     delimiter,\n\u001b[1;32m   (...)\u001b[0m\n\u001b[0;32m    676\u001b[0m     defaults\u001b[39m=\u001b[39m{\u001b[39m\"\u001b[39m\u001b[39mdelimiter\u001b[39m\u001b[39m\"\u001b[39m: \u001b[39m\"\u001b[39m\u001b[39m,\u001b[39m\u001b[39m\"\u001b[39m},\n\u001b[0;32m    677\u001b[0m )\n\u001b[0;32m    678\u001b[0m kwds\u001b[39m.\u001b[39mupdate(kwds_defaults)\n\u001b[1;32m--> 680\u001b[0m \u001b[39mreturn\u001b[39;00m _read(filepath_or_buffer, kwds)\n",
      "File \u001b[1;32mc:\\Users\\User\\AppData\\Local\\Programs\\Python\\Python39\\lib\\site-packages\\pandas\\io\\parsers\\readers.py:575\u001b[0m, in \u001b[0;36m_read\u001b[1;34m(filepath_or_buffer, kwds)\u001b[0m\n\u001b[0;32m    572\u001b[0m _validate_names(kwds\u001b[39m.\u001b[39mget(\u001b[39m\"\u001b[39m\u001b[39mnames\u001b[39m\u001b[39m\"\u001b[39m, \u001b[39mNone\u001b[39;00m))\n\u001b[0;32m    574\u001b[0m \u001b[39m# Create the parser.\u001b[39;00m\n\u001b[1;32m--> 575\u001b[0m parser \u001b[39m=\u001b[39m TextFileReader(filepath_or_buffer, \u001b[39m*\u001b[39m\u001b[39m*\u001b[39mkwds)\n\u001b[0;32m    577\u001b[0m \u001b[39mif\u001b[39;00m chunksize \u001b[39mor\u001b[39;00m iterator:\n\u001b[0;32m    578\u001b[0m     \u001b[39mreturn\u001b[39;00m parser\n",
      "File \u001b[1;32mc:\\Users\\User\\AppData\\Local\\Programs\\Python\\Python39\\lib\\site-packages\\pandas\\io\\parsers\\readers.py:933\u001b[0m, in \u001b[0;36mTextFileReader.__init__\u001b[1;34m(self, f, engine, **kwds)\u001b[0m\n\u001b[0;32m    930\u001b[0m     \u001b[39mself\u001b[39m\u001b[39m.\u001b[39moptions[\u001b[39m\"\u001b[39m\u001b[39mhas_index_names\u001b[39m\u001b[39m\"\u001b[39m] \u001b[39m=\u001b[39m kwds[\u001b[39m\"\u001b[39m\u001b[39mhas_index_names\u001b[39m\u001b[39m\"\u001b[39m]\n\u001b[0;32m    932\u001b[0m \u001b[39mself\u001b[39m\u001b[39m.\u001b[39mhandles: IOHandles \u001b[39m|\u001b[39m \u001b[39mNone\u001b[39;00m \u001b[39m=\u001b[39m \u001b[39mNone\u001b[39;00m\n\u001b[1;32m--> 933\u001b[0m \u001b[39mself\u001b[39m\u001b[39m.\u001b[39m_engine \u001b[39m=\u001b[39m \u001b[39mself\u001b[39;49m\u001b[39m.\u001b[39;49m_make_engine(f, \u001b[39mself\u001b[39;49m\u001b[39m.\u001b[39;49mengine)\n",
      "File \u001b[1;32mc:\\Users\\User\\AppData\\Local\\Programs\\Python\\Python39\\lib\\site-packages\\pandas\\io\\parsers\\readers.py:1217\u001b[0m, in \u001b[0;36mTextFileReader._make_engine\u001b[1;34m(self, f, engine)\u001b[0m\n\u001b[0;32m   1213\u001b[0m     mode \u001b[39m=\u001b[39m \u001b[39m\"\u001b[39m\u001b[39mrb\u001b[39m\u001b[39m\"\u001b[39m\n\u001b[0;32m   1214\u001b[0m \u001b[39m# error: No overload variant of \"get_handle\" matches argument types\u001b[39;00m\n\u001b[0;32m   1215\u001b[0m \u001b[39m# \"Union[str, PathLike[str], ReadCsvBuffer[bytes], ReadCsvBuffer[str]]\"\u001b[39;00m\n\u001b[0;32m   1216\u001b[0m \u001b[39m# , \"str\", \"bool\", \"Any\", \"Any\", \"Any\", \"Any\", \"Any\"\u001b[39;00m\n\u001b[1;32m-> 1217\u001b[0m \u001b[39mself\u001b[39m\u001b[39m.\u001b[39mhandles \u001b[39m=\u001b[39m get_handle(  \u001b[39m# type: ignore[call-overload]\u001b[39;49;00m\n\u001b[0;32m   1218\u001b[0m     f,\n\u001b[0;32m   1219\u001b[0m     mode,\n\u001b[0;32m   1220\u001b[0m     encoding\u001b[39m=\u001b[39;49m\u001b[39mself\u001b[39;49m\u001b[39m.\u001b[39;49moptions\u001b[39m.\u001b[39;49mget(\u001b[39m\"\u001b[39;49m\u001b[39mencoding\u001b[39;49m\u001b[39m\"\u001b[39;49m, \u001b[39mNone\u001b[39;49;00m),\n\u001b[0;32m   1221\u001b[0m     compression\u001b[39m=\u001b[39;49m\u001b[39mself\u001b[39;49m\u001b[39m.\u001b[39;49moptions\u001b[39m.\u001b[39;49mget(\u001b[39m\"\u001b[39;49m\u001b[39mcompression\u001b[39;49m\u001b[39m\"\u001b[39;49m, \u001b[39mNone\u001b[39;49;00m),\n\u001b[0;32m   1222\u001b[0m     memory_map\u001b[39m=\u001b[39;49m\u001b[39mself\u001b[39;49m\u001b[39m.\u001b[39;49moptions\u001b[39m.\u001b[39;49mget(\u001b[39m\"\u001b[39;49m\u001b[39mmemory_map\u001b[39;49m\u001b[39m\"\u001b[39;49m, \u001b[39mFalse\u001b[39;49;00m),\n\u001b[0;32m   1223\u001b[0m     is_text\u001b[39m=\u001b[39;49mis_text,\n\u001b[0;32m   1224\u001b[0m     errors\u001b[39m=\u001b[39;49m\u001b[39mself\u001b[39;49m\u001b[39m.\u001b[39;49moptions\u001b[39m.\u001b[39;49mget(\u001b[39m\"\u001b[39;49m\u001b[39mencoding_errors\u001b[39;49m\u001b[39m\"\u001b[39;49m, \u001b[39m\"\u001b[39;49m\u001b[39mstrict\u001b[39;49m\u001b[39m\"\u001b[39;49m),\n\u001b[0;32m   1225\u001b[0m     storage_options\u001b[39m=\u001b[39;49m\u001b[39mself\u001b[39;49m\u001b[39m.\u001b[39;49moptions\u001b[39m.\u001b[39;49mget(\u001b[39m\"\u001b[39;49m\u001b[39mstorage_options\u001b[39;49m\u001b[39m\"\u001b[39;49m, \u001b[39mNone\u001b[39;49;00m),\n\u001b[0;32m   1226\u001b[0m )\n\u001b[0;32m   1227\u001b[0m \u001b[39massert\u001b[39;00m \u001b[39mself\u001b[39m\u001b[39m.\u001b[39mhandles \u001b[39mis\u001b[39;00m \u001b[39mnot\u001b[39;00m \u001b[39mNone\u001b[39;00m\n\u001b[0;32m   1228\u001b[0m f \u001b[39m=\u001b[39m \u001b[39mself\u001b[39m\u001b[39m.\u001b[39mhandles\u001b[39m.\u001b[39mhandle\n",
      "File \u001b[1;32mc:\\Users\\User\\AppData\\Local\\Programs\\Python\\Python39\\lib\\site-packages\\pandas\\io\\common.py:789\u001b[0m, in \u001b[0;36mget_handle\u001b[1;34m(path_or_buf, mode, encoding, compression, memory_map, is_text, errors, storage_options)\u001b[0m\n\u001b[0;32m    784\u001b[0m \u001b[39melif\u001b[39;00m \u001b[39misinstance\u001b[39m(handle, \u001b[39mstr\u001b[39m):\n\u001b[0;32m    785\u001b[0m     \u001b[39m# Check whether the filename is to be opened in binary mode.\u001b[39;00m\n\u001b[0;32m    786\u001b[0m     \u001b[39m# Binary mode does not support 'encoding' and 'newline'.\u001b[39;00m\n\u001b[0;32m    787\u001b[0m     \u001b[39mif\u001b[39;00m ioargs\u001b[39m.\u001b[39mencoding \u001b[39mand\u001b[39;00m \u001b[39m\"\u001b[39m\u001b[39mb\u001b[39m\u001b[39m\"\u001b[39m \u001b[39mnot\u001b[39;00m \u001b[39min\u001b[39;00m ioargs\u001b[39m.\u001b[39mmode:\n\u001b[0;32m    788\u001b[0m         \u001b[39m# Encoding\u001b[39;00m\n\u001b[1;32m--> 789\u001b[0m         handle \u001b[39m=\u001b[39m \u001b[39mopen\u001b[39;49m(\n\u001b[0;32m    790\u001b[0m             handle,\n\u001b[0;32m    791\u001b[0m             ioargs\u001b[39m.\u001b[39;49mmode,\n\u001b[0;32m    792\u001b[0m             encoding\u001b[39m=\u001b[39;49mioargs\u001b[39m.\u001b[39;49mencoding,\n\u001b[0;32m    793\u001b[0m             errors\u001b[39m=\u001b[39;49merrors,\n\u001b[0;32m    794\u001b[0m             newline\u001b[39m=\u001b[39;49m\u001b[39m\"\u001b[39;49m\u001b[39m\"\u001b[39;49m,\n\u001b[0;32m    795\u001b[0m         )\n\u001b[0;32m    796\u001b[0m     \u001b[39melse\u001b[39;00m:\n\u001b[0;32m    797\u001b[0m         \u001b[39m# Binary mode\u001b[39;00m\n\u001b[0;32m    798\u001b[0m         handle \u001b[39m=\u001b[39m \u001b[39mopen\u001b[39m(handle, ioargs\u001b[39m.\u001b[39mmode)\n",
      "\u001b[1;31mFileNotFoundError\u001b[0m: [Errno 2] No such file or directory: '/kaggle/input/birdclef-2023/train_metadata.csv'"
     ]
    }
   ],
   "source": [
    "data = pd.read_csv('/kaggle/input/birdclef-2023/train_metadata.csv')\n",
    "data = pd.concat([ pd.Series(data['primary_label']), pd.Series(data['type']), pd.Series(data['filename'], name='path')], axis=1, names=['primary_label', 'type', 'path'])\n",
    "\n",
    "data = pd.concat([data, pd.get_dummies(data['primary_label'])], axis=1)\n",
    "birds = list(pd.get_dummies(data['primary_label']).columns)\n",
    "\n",
    "train_data, test_data = train_test_split(data, train_size=0.8)\n",
    "train_data = train_data.reset_index(drop=True)\n",
    "test_data = test_data.reset_index(drop=True)"
   ]
  },
  {
   "cell_type": "code",
   "execution_count": 7,
   "id": "04df9557",
   "metadata": {
    "execution": {
     "iopub.execute_input": "2023-05-22T07:04:31.753150Z",
     "iopub.status.busy": "2023-05-22T07:04:31.752417Z",
     "iopub.status.idle": "2023-05-22T07:04:31.759472Z",
     "shell.execute_reply": "2023-05-22T07:04:31.758077Z"
    },
    "id": "P3LRPeJ35aWR",
    "papermill": {
     "duration": 0.017541,
     "end_time": "2023-05-22T07:04:31.762176",
     "exception": false,
     "start_time": "2023-05-22T07:04:31.744635",
     "status": "completed"
    },
    "tags": []
   },
   "outputs": [
    {
     "ename": "NameError",
     "evalue": "name 'train_data' is not defined",
     "output_type": "error",
     "traceback": [
      "\u001b[1;31m---------------------------------------------------------------------------\u001b[0m",
      "\u001b[1;31mNameError\u001b[0m                                 Traceback (most recent call last)",
      "\u001b[1;32mc:\\Users\\User\\Downloads\\notebook88b003c1dd.ipynb Cell 7\u001b[0m in \u001b[0;36m1\n\u001b[1;32m----> <a href='vscode-notebook-cell:/c%3A/Users/User/Downloads/notebook88b003c1dd.ipynb#W6sZmlsZQ%3D%3D?line=0'>1</a>\u001b[0m train_dataset \u001b[39m=\u001b[39m BirdDataset(train_data, transform\u001b[39m=\u001b[39mtransform)\n\u001b[0;32m      <a href='vscode-notebook-cell:/c%3A/Users/User/Downloads/notebook88b003c1dd.ipynb#W6sZmlsZQ%3D%3D?line=1'>2</a>\u001b[0m train_dataloader \u001b[39m=\u001b[39m DataLoader(train_dataset, shuffle\u001b[39m=\u001b[39m\u001b[39mTrue\u001b[39;00m, batch_size\u001b[39m=\u001b[39mbs)\n\u001b[0;32m      <a href='vscode-notebook-cell:/c%3A/Users/User/Downloads/notebook88b003c1dd.ipynb#W6sZmlsZQ%3D%3D?line=3'>4</a>\u001b[0m test_dataset \u001b[39m=\u001b[39m BirdDataset(test_data)\n",
      "\u001b[1;31mNameError\u001b[0m: name 'train_data' is not defined"
     ]
    }
   ],
   "source": [
    "train_dataset = BirdDataset(train_data, transform=transform)\n",
    "train_dataloader = DataLoader(train_dataset, shuffle=True, batch_size=bs)\n",
    "\n",
    "test_dataset = BirdDataset(test_data)\n",
    "test_dataloader = DataLoader(test_dataset, shuffle=True, batch_size=bs)"
   ]
  },
  {
   "cell_type": "code",
   "execution_count": 8,
   "id": "e6ba91e6",
   "metadata": {
    "execution": {
     "iopub.execute_input": "2023-05-22T07:04:31.776827Z",
     "iopub.status.busy": "2023-05-22T07:04:31.776351Z",
     "iopub.status.idle": "2023-05-22T07:04:31.785198Z",
     "shell.execute_reply": "2023-05-22T07:04:31.783713Z"
    },
    "id": "ikrlnNtY5aWU",
    "papermill": {
     "duration": 0.019738,
     "end_time": "2023-05-22T07:04:31.788105",
     "exception": false,
     "start_time": "2023-05-22T07:04:31.768367",
     "status": "completed"
    },
    "tags": []
   },
   "outputs": [],
   "source": [
    "def train(model, data_loader, optimizer, scheduler):\n",
    "    model.train()\n",
    "    \n",
    "    cnt = 0\n",
    "    for mels, labels in data_loader:\n",
    "        optimizer.zero_grad()\n",
    "        \n",
    "        mels = mels.to(device)\n",
    "        labels = labels.to(device)\n",
    "        \n",
    "        outputs = model(mels)\n",
    "        _, preds = torch.max(outputs, 1)\n",
    "       \n",
    "        loss = loss_fn(outputs, labels)\n",
    "        if(cnt%10==0):\n",
    "            print(loss.item())\n",
    "        cnt+=1\n",
    "        \n",
    "        loss.backward()\n",
    "        optimizer.step()\n",
    "        \n",
    "        if scheduler is not None:\n",
    "            scheduler.step()"
   ]
  },
  {
   "cell_type": "code",
   "execution_count": 9,
   "id": "d6296844",
   "metadata": {
    "execution": {
     "iopub.execute_input": "2023-05-22T07:04:31.802628Z",
     "iopub.status.busy": "2023-05-22T07:04:31.801977Z",
     "iopub.status.idle": "2023-05-22T07:04:31.810529Z",
     "shell.execute_reply": "2023-05-22T07:04:31.809505Z"
    },
    "id": "COWZpq5N5aWX",
    "papermill": {
     "duration": 0.019034,
     "end_time": "2023-05-22T07:04:31.813228",
     "exception": false,
     "start_time": "2023-05-22T07:04:31.794194",
     "status": "completed"
    },
    "tags": []
   },
   "outputs": [],
   "source": [
    "#test\n",
    "def test(model, data_loader):\n",
    "    model.eval()\n",
    "    \n",
    "    pred = []\n",
    "    label = []\n",
    "    \n",
    "    for mels, labels in data_loader:\n",
    "        mels = mels.to(device)\n",
    "        labels = labels.to(device)\n",
    "        \n",
    "        outputs = model(mels)\n",
    "        _, preds = torch.max(outputs, 1)\n",
    "        \n",
    "        label.append(labels.cpu().detach())\n",
    "        pred.append(outputs.sigmoid().cpu().detach())\n",
    "        \n",
    "        \n",
    "    labels_df = torch.cat([x for x in label], dim=0)\n",
    "    pred_df = torch.cat([x for x in pred], dim=0)\n",
    "    label_df = pd.DataFrame(labels_df)  \n",
    "    pred_df = pd.DataFrame(pred_df)  \n",
    "    current_score = padded_cmap(label_df, pred_df)\n",
    "    \n",
    "    return current_score"
   ]
  },
  {
   "cell_type": "code",
   "execution_count": 10,
   "id": "bce9cfc5",
   "metadata": {
    "execution": {
     "iopub.execute_input": "2023-05-22T07:04:31.827639Z",
     "iopub.status.busy": "2023-05-22T07:04:31.826985Z",
     "iopub.status.idle": "2023-05-22T07:04:31.832183Z",
     "shell.execute_reply": "2023-05-22T07:04:31.830943Z"
    },
    "papermill": {
     "duration": 0.015727,
     "end_time": "2023-05-22T07:04:31.834949",
     "exception": false,
     "start_time": "2023-05-22T07:04:31.819222",
     "status": "completed"
    },
    "tags": []
   },
   "outputs": [
    {
     "name": "stdout",
     "output_type": "stream",
     "text": [
      "0\n"
     ]
    },
    {
     "ename": "NameError",
     "evalue": "name 'train_dataloader' is not defined",
     "output_type": "error",
     "traceback": [
      "\u001b[1;31m---------------------------------------------------------------------------\u001b[0m",
      "\u001b[1;31mNameError\u001b[0m                                 Traceback (most recent call last)",
      "\u001b[1;32mc:\\Users\\User\\Downloads\\notebook88b003c1dd.ipynb Cell 10\u001b[0m in \u001b[0;36m4\n\u001b[0;32m      <a href='vscode-notebook-cell:/c%3A/Users/User/Downloads/notebook88b003c1dd.ipynb#X12sZmlsZQ%3D%3D?line=1'>2</a>\u001b[0m \u001b[39mfor\u001b[39;00m i \u001b[39min\u001b[39;00m \u001b[39mrange\u001b[39m(epochs):\n\u001b[0;32m      <a href='vscode-notebook-cell:/c%3A/Users/User/Downloads/notebook88b003c1dd.ipynb#X12sZmlsZQ%3D%3D?line=2'>3</a>\u001b[0m     \u001b[39mprint\u001b[39m(i)\n\u001b[1;32m----> <a href='vscode-notebook-cell:/c%3A/Users/User/Downloads/notebook88b003c1dd.ipynb#X12sZmlsZQ%3D%3D?line=3'>4</a>\u001b[0m     train(birds_classifier, train_dataloader, optim, scheduler)\n\u001b[0;32m      <a href='vscode-notebook-cell:/c%3A/Users/User/Downloads/notebook88b003c1dd.ipynb#X12sZmlsZQ%3D%3D?line=4'>5</a>\u001b[0m     cur_score \u001b[39m=\u001b[39m test(birds_classifier, test_dataloader)\n\u001b[0;32m      <a href='vscode-notebook-cell:/c%3A/Users/User/Downloads/notebook88b003c1dd.ipynb#X12sZmlsZQ%3D%3D?line=5'>6</a>\u001b[0m     \u001b[39mprint\u001b[39m(cur_score)\n",
      "\u001b[1;31mNameError\u001b[0m: name 'train_dataloader' is not defined"
     ]
    }
   ],
   "source": [
    "temp_score = 0\n",
    "for i in range(epochs):\n",
    "    print(i)\n",
    "    train(birds_classifier, train_dataloader, optim, scheduler)\n",
    "    cur_score = test(birds_classifier, test_dataloader)\n",
    "    print(cur_score)\n",
    "    if(cur_score)>temp_score:\n",
    "        temp_score = cur_score\n",
    "        torch.save(birds_classifier.state_dict(), '/kaggle/working/best.pth')"
   ]
  },
  {
   "cell_type": "code",
   "execution_count": 11,
   "id": "2019aea4",
   "metadata": {
    "execution": {
     "iopub.execute_input": "2023-05-22T07:04:31.849881Z",
     "iopub.status.busy": "2023-05-22T07:04:31.849417Z",
     "iopub.status.idle": "2023-05-22T07:04:32.359906Z",
     "shell.execute_reply": "2023-05-22T07:04:32.358719Z"
    },
    "papermill": {
     "duration": 0.52084,
     "end_time": "2023-05-22T07:04:32.362332",
     "exception": false,
     "start_time": "2023-05-22T07:04:31.841492",
     "status": "completed"
    },
    "tags": []
   },
   "outputs": [
    {
     "data": {
      "text/plain": [
       "<All keys matched successfully>"
      ]
     },
     "execution_count": 11,
     "metadata": {},
     "output_type": "execute_result"
    }
   ],
   "source": [
    "#birds_classifier.load_state_dict(torch.load('/kaggle/input/weights/best1.pth', map_location='cpu'), strict=False)"
   ]
  },
  {
   "cell_type": "code",
   "execution_count": 12,
   "id": "4b4ee14a",
   "metadata": {
    "execution": {
     "iopub.execute_input": "2023-05-22T07:04:32.377134Z",
     "iopub.status.busy": "2023-05-22T07:04:32.376137Z",
     "iopub.status.idle": "2023-05-22T07:04:32.387322Z",
     "shell.execute_reply": "2023-05-22T07:04:32.385927Z"
    },
    "papermill": {
     "duration": 0.021594,
     "end_time": "2023-05-22T07:04:32.390104",
     "exception": false,
     "start_time": "2023-05-22T07:04:32.368510",
     "status": "completed"
    },
    "tags": []
   },
   "outputs": [],
   "source": [
    "input_file_name = os.listdir('/kaggle/input/birdclef-2023/test_soundscapes')\n",
    "input_file_path = '/kaggle/input/birdclef-2023/test_soundscapes/'\n",
    "\n",
    "data = {'primary_label' : [x for x in range(len(input_file_name))], \n",
    "        'type' : [x for x in range(len(input_file_name))], \n",
    "        'path' : [str(input_file_path + x) for x in input_file_name]}\n",
    "\n",
    "test_data = pd.DataFrame(data=data)\n",
    "\n",
    "test_data = BirdDataset(test_data, valid=True)"
   ]
  },
  {
   "cell_type": "code",
   "execution_count": 13,
   "id": "f989ccf8",
   "metadata": {
    "execution": {
     "iopub.execute_input": "2023-05-22T07:04:32.404557Z",
     "iopub.status.busy": "2023-05-22T07:04:32.404180Z",
     "iopub.status.idle": "2023-05-22T07:05:01.532579Z",
     "shell.execute_reply": "2023-05-22T07:05:01.531257Z"
    },
    "id": "_jT83cCZFs7k",
    "outputId": "eeda9127-2893-4355-d64e-03c62825349c",
    "papermill": {
     "duration": 29.138866,
     "end_time": "2023-05-22T07:05:01.535563",
     "exception": false,
     "start_time": "2023-05-22T07:04:32.396697",
     "status": "completed"
    },
    "tags": []
   },
   "outputs": [],
   "source": [
    "predictions = []\n",
    "birds_classifier.eval()\n",
    "for en in range(len(test_data)):\n",
    "    images = torch.from_numpy(test_data[en][0])\n",
    "    outputs = birds_classifier(images).sigmoid().detach().numpy()\n",
    "    predictions.append(outputs)"
   ]
  },
  {
   "cell_type": "code",
   "execution_count": 14,
   "id": "064382c8",
   "metadata": {
    "execution": {
     "iopub.execute_input": "2023-05-22T07:05:01.550243Z",
     "iopub.status.busy": "2023-05-22T07:05:01.549476Z",
     "iopub.status.idle": "2023-05-22T07:05:01.729674Z",
     "shell.execute_reply": "2023-05-22T07:05:01.728438Z"
    },
    "id": "mBuW5NwGEQcs",
    "outputId": "62df2127-e3b1-4d72-c10d-96bfe6c009c2",
    "papermill": {
     "duration": 0.190596,
     "end_time": "2023-05-22T07:05:01.732518",
     "exception": false,
     "start_time": "2023-05-22T07:05:01.541922",
     "status": "completed"
    },
    "tags": []
   },
   "outputs": [],
   "source": [
    "submission = pd.DataFrame(columns=['row_id']+birds)\n",
    "\n",
    "for i, file in enumerate(input_file_name):\n",
    "    pred = predictions[i]\n",
    "    file = input_file_name[i][:-4]\n",
    "    num_rows = len(pred)\n",
    "    row_ids = [f'{file}_{(i+1)*5}' for i in range(num_rows)]\n",
    "    df = pd.DataFrame(columns=['row_id'] + birds)\n",
    "    df['row_id'] = row_ids\n",
    "    df[birds] = pred\n",
    "    submission = pd.concat([submission, df]).reset_index(drop=True)\n",
    "submission.to_csv('submission.csv', index=False)"
   ]
  },
  {
   "cell_type": "code",
   "execution_count": null,
   "id": "3b877736",
   "metadata": {
    "papermill": {
     "duration": 0.005957,
     "end_time": "2023-05-22T07:05:01.745036",
     "exception": false,
     "start_time": "2023-05-22T07:05:01.739079",
     "status": "completed"
    },
    "tags": []
   },
   "outputs": [],
   "source": []
  }
 ],
 "metadata": {
  "kernelspec": {
   "display_name": "Python 3",
   "language": "python",
   "name": "python3"
  },
  "language_info": {
   "codemirror_mode": {
    "name": "ipython",
    "version": 3
   },
   "file_extension": ".py",
   "mimetype": "text/x-python",
   "name": "python",
   "nbconvert_exporter": "python",
   "pygments_lexer": "ipython3",
   "version": "3.9.6"
  },
  "papermill": {
   "default_parameters": {},
   "duration": 54.80918,
   "end_time": "2023-05-22T07:05:04.848647",
   "environment_variables": {},
   "exception": null,
   "input_path": "__notebook__.ipynb",
   "output_path": "__notebook__.ipynb",
   "parameters": {},
   "start_time": "2023-05-22T07:04:10.039467",
   "version": "2.4.0"
  }
 },
 "nbformat": 4,
 "nbformat_minor": 5
}
